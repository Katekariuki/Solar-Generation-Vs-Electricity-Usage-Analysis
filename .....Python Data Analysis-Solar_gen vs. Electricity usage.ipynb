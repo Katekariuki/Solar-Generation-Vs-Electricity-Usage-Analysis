{
 "cells": [
  {
   "cell_type": "code",
   "execution_count": 42,
   "metadata": {},
   "outputs": [],
   "source": [
    "import matplotlib.pyplot as plt\n",
    "import seaborn as sns"
   ]
  },
  {
   "cell_type": "code",
   "execution_count": 43,
   "metadata": {},
   "outputs": [],
   "source": [
    "import pandas as pd\n",
    "import numpy as np \n",
    "from sqlalchemy import create_engine"
   ]
  },
  {
   "cell_type": "code",
   "execution_count": null,
   "metadata": {},
   "outputs": [
    {
     "name": "stdout",
     "output_type": "stream",
     "text": [
      "   Hour   Date/hour start  Solar electricity generation (kWh)  \\\n",
      "0   0.0  01/01/2020 00:00                                 0.0   \n",
      "1   1.0  01/01/2020 01:00                                 0.0   \n",
      "2   2.0  01/01/2020 02:00                                 0.0   \n",
      "3   3.0  01/01/2020 03:00                                 0.0   \n",
      "4   4.0  01/01/2020 04:00                                 0.0   \n",
      "\n",
      "   Electricity usage (kWh) Column5 Column6  \n",
      "0                 1.509849                  \n",
      "1                 1.411859                  \n",
      "2                 1.023898                  \n",
      "3                 0.642000                  \n",
      "4                 0.960000                  \n"
     ]
    }
   ],
   "source": [
    "db_params = {\n",
    "    'dbname': 'defaultdb',\n",
    "    'user': 'avnadmin',\n",
    "    'password': '...',\n",
    "    'host': '...',\n",
    "    'port': '10028'\n",
    "}\n",
    "\n",
    "engine = create_engine(f\"postgresql://{db_params['user']}:{db_params['password']}@{db_params['host']}:{db_params['port']}/{db_params['dbname']}\")\n",
    "\n",
    "query = \"SELECT * FROM public.data;\"\n",
    "\n",
    "df = pd.read_sql(query, engine)\n",
    "\n",
    "print(df.head())"
   ]
  },
  {
   "cell_type": "markdown",
   "metadata": {},
   "source": [
    "## Data Cleaning & Exploration"
   ]
  },
  {
   "cell_type": "code",
   "execution_count": 45,
   "metadata": {},
   "outputs": [
    {
     "data": {
      "text/html": [
       "<div>\n",
       "<style scoped>\n",
       "    .dataframe tbody tr th:only-of-type {\n",
       "        vertical-align: middle;\n",
       "    }\n",
       "\n",
       "    .dataframe tbody tr th {\n",
       "        vertical-align: top;\n",
       "    }\n",
       "\n",
       "    .dataframe thead th {\n",
       "        text-align: right;\n",
       "    }\n",
       "</style>\n",
       "<table border=\"1\" class=\"dataframe\">\n",
       "  <thead>\n",
       "    <tr style=\"text-align: right;\">\n",
       "      <th></th>\n",
       "      <th>Hour</th>\n",
       "      <th>Date/hour start</th>\n",
       "      <th>Solar electricity generation (kWh)</th>\n",
       "      <th>Electricity usage (kWh)</th>\n",
       "      <th>Column5</th>\n",
       "      <th>Column6</th>\n",
       "    </tr>\n",
       "  </thead>\n",
       "  <tbody>\n",
       "    <tr>\n",
       "      <th>0</th>\n",
       "      <td>0.0</td>\n",
       "      <td>01/01/2020 00:00</td>\n",
       "      <td>0.0</td>\n",
       "      <td>1.509849</td>\n",
       "      <td></td>\n",
       "      <td></td>\n",
       "    </tr>\n",
       "    <tr>\n",
       "      <th>1</th>\n",
       "      <td>1.0</td>\n",
       "      <td>01/01/2020 01:00</td>\n",
       "      <td>0.0</td>\n",
       "      <td>1.411859</td>\n",
       "      <td></td>\n",
       "      <td></td>\n",
       "    </tr>\n",
       "    <tr>\n",
       "      <th>2</th>\n",
       "      <td>2.0</td>\n",
       "      <td>01/01/2020 02:00</td>\n",
       "      <td>0.0</td>\n",
       "      <td>1.023898</td>\n",
       "      <td></td>\n",
       "      <td></td>\n",
       "    </tr>\n",
       "    <tr>\n",
       "      <th>3</th>\n",
       "      <td>3.0</td>\n",
       "      <td>01/01/2020 03:00</td>\n",
       "      <td>0.0</td>\n",
       "      <td>0.642000</td>\n",
       "      <td></td>\n",
       "      <td></td>\n",
       "    </tr>\n",
       "    <tr>\n",
       "      <th>4</th>\n",
       "      <td>4.0</td>\n",
       "      <td>01/01/2020 04:00</td>\n",
       "      <td>0.0</td>\n",
       "      <td>0.960000</td>\n",
       "      <td></td>\n",
       "      <td></td>\n",
       "    </tr>\n",
       "  </tbody>\n",
       "</table>\n",
       "</div>"
      ],
      "text/plain": [
       "   Hour   Date/hour start  Solar electricity generation (kWh)  \\\n",
       "0   0.0  01/01/2020 00:00                                 0.0   \n",
       "1   1.0  01/01/2020 01:00                                 0.0   \n",
       "2   2.0  01/01/2020 02:00                                 0.0   \n",
       "3   3.0  01/01/2020 03:00                                 0.0   \n",
       "4   4.0  01/01/2020 04:00                                 0.0   \n",
       "\n",
       "   Electricity usage (kWh) Column5 Column6  \n",
       "0                 1.509849                  \n",
       "1                 1.411859                  \n",
       "2                 1.023898                  \n",
       "3                 0.642000                  \n",
       "4                 0.960000                  "
      ]
     },
     "execution_count": 45,
     "metadata": {},
     "output_type": "execute_result"
    }
   ],
   "source": [
    "#first five rows\n",
    "df.head()"
   ]
  },
  {
   "cell_type": "code",
   "execution_count": 46,
   "metadata": {},
   "outputs": [
    {
     "data": {
      "text/html": [
       "<div>\n",
       "<style scoped>\n",
       "    .dataframe tbody tr th:only-of-type {\n",
       "        vertical-align: middle;\n",
       "    }\n",
       "\n",
       "    .dataframe tbody tr th {\n",
       "        vertical-align: top;\n",
       "    }\n",
       "\n",
       "    .dataframe thead th {\n",
       "        text-align: right;\n",
       "    }\n",
       "</style>\n",
       "<table border=\"1\" class=\"dataframe\">\n",
       "  <thead>\n",
       "    <tr style=\"text-align: right;\">\n",
       "      <th></th>\n",
       "      <th>Hour</th>\n",
       "      <th>Date/hour start</th>\n",
       "      <th>Solar electricity generation (kWh)</th>\n",
       "      <th>Electricity usage (kWh)</th>\n",
       "      <th>Column5</th>\n",
       "      <th>Column6</th>\n",
       "    </tr>\n",
       "  </thead>\n",
       "  <tbody>\n",
       "    <tr>\n",
       "      <th>82729</th>\n",
       "      <td>NaN</td>\n",
       "      <td></td>\n",
       "      <td>NaN</td>\n",
       "      <td>NaN</td>\n",
       "      <td></td>\n",
       "      <td></td>\n",
       "    </tr>\n",
       "    <tr>\n",
       "      <th>82730</th>\n",
       "      <td>NaN</td>\n",
       "      <td></td>\n",
       "      <td>NaN</td>\n",
       "      <td>NaN</td>\n",
       "      <td></td>\n",
       "      <td></td>\n",
       "    </tr>\n",
       "    <tr>\n",
       "      <th>82731</th>\n",
       "      <td>NaN</td>\n",
       "      <td></td>\n",
       "      <td>NaN</td>\n",
       "      <td>NaN</td>\n",
       "      <td></td>\n",
       "      <td></td>\n",
       "    </tr>\n",
       "    <tr>\n",
       "      <th>82732</th>\n",
       "      <td>NaN</td>\n",
       "      <td></td>\n",
       "      <td>NaN</td>\n",
       "      <td>NaN</td>\n",
       "      <td></td>\n",
       "      <td></td>\n",
       "    </tr>\n",
       "    <tr>\n",
       "      <th>82733</th>\n",
       "      <td>NaN</td>\n",
       "      <td></td>\n",
       "      <td>NaN</td>\n",
       "      <td>NaN</td>\n",
       "      <td></td>\n",
       "      <td></td>\n",
       "    </tr>\n",
       "  </tbody>\n",
       "</table>\n",
       "</div>"
      ],
      "text/plain": [
       "       Hour Date/hour start  Solar electricity generation (kWh)  \\\n",
       "82729   NaN                                                 NaN   \n",
       "82730   NaN                                                 NaN   \n",
       "82731   NaN                                                 NaN   \n",
       "82732   NaN                                                 NaN   \n",
       "82733   NaN                                                 NaN   \n",
       "\n",
       "       Electricity usage (kWh) Column5 Column6  \n",
       "82729                      NaN                  \n",
       "82730                      NaN                  \n",
       "82731                      NaN                  \n",
       "82732                      NaN                  \n",
       "82733                      NaN                  "
      ]
     },
     "execution_count": 46,
     "metadata": {},
     "output_type": "execute_result"
    }
   ],
   "source": [
    "#Last five rows\n",
    "df.tail()"
   ]
  },
  {
   "cell_type": "code",
   "execution_count": 47,
   "metadata": {},
   "outputs": [],
   "source": [
    "#Dropping unwanted/blank columns\n",
    "df=df.drop(columns=['Column5','Column6'])"
   ]
  },
  {
   "cell_type": "code",
   "execution_count": 48,
   "metadata": {},
   "outputs": [
    {
     "data": {
      "text/plain": [
       "(82734, 4)"
      ]
     },
     "execution_count": 48,
     "metadata": {},
     "output_type": "execute_result"
    }
   ],
   "source": [
    "#Checking number of rows and columns\n",
    "df.shape"
   ]
  },
  {
   "cell_type": "code",
   "execution_count": 49,
   "metadata": {},
   "outputs": [
    {
     "data": {
      "text/plain": [
       "Index(['Hour', 'Date/hour start', 'Solar electricity generation (kWh)',\n",
       "       'Electricity usage (kWh)'],\n",
       "      dtype='object')"
      ]
     },
     "execution_count": 49,
     "metadata": {},
     "output_type": "execute_result"
    }
   ],
   "source": [
    "#Checking column titles\n",
    "df.columns"
   ]
  },
  {
   "cell_type": "code",
   "execution_count": 50,
   "metadata": {},
   "outputs": [
    {
     "data": {
      "text/plain": [
       "Hour                                  73974\n",
       "Date/hour start                           0\n",
       "Solar electricity generation (kWh)    73974\n",
       "Electricity usage (kWh)               73974\n",
       "dtype: int64"
      ]
     },
     "execution_count": 50,
     "metadata": {},
     "output_type": "execute_result"
    }
   ],
   "source": [
    "#Identifying total null values in all columns\n",
    "df.isnull().sum()"
   ]
  },
  {
   "cell_type": "code",
   "execution_count": 51,
   "metadata": {},
   "outputs": [],
   "source": [
    "#Dropping all nulls\n",
    "df=df.dropna()"
   ]
  },
  {
   "cell_type": "code",
   "execution_count": 52,
   "metadata": {},
   "outputs": [
    {
     "data": {
      "text/plain": [
       "Hour                                  float64\n",
       "Date/hour start                        object\n",
       "Solar electricity generation (kWh)    float64\n",
       "Electricity usage (kWh)               float64\n",
       "dtype: object"
      ]
     },
     "execution_count": 52,
     "metadata": {},
     "output_type": "execute_result"
    }
   ],
   "source": [
    "#Checking data type for all columns\n",
    "df.dtypes"
   ]
  },
  {
   "cell_type": "code",
   "execution_count": 53,
   "metadata": {},
   "outputs": [
    {
     "data": {
      "text/html": [
       "<div>\n",
       "<style scoped>\n",
       "    .dataframe tbody tr th:only-of-type {\n",
       "        vertical-align: middle;\n",
       "    }\n",
       "\n",
       "    .dataframe tbody tr th {\n",
       "        vertical-align: top;\n",
       "    }\n",
       "\n",
       "    .dataframe thead th {\n",
       "        text-align: right;\n",
       "    }\n",
       "</style>\n",
       "<table border=\"1\" class=\"dataframe\">\n",
       "  <thead>\n",
       "    <tr style=\"text-align: right;\">\n",
       "      <th></th>\n",
       "      <th>Hour</th>\n",
       "      <th>Date/hour start</th>\n",
       "      <th>Solar electricity generation (kWh)</th>\n",
       "      <th>Electricity usage (kWh)</th>\n",
       "    </tr>\n",
       "  </thead>\n",
       "  <tbody>\n",
       "    <tr>\n",
       "      <th>0</th>\n",
       "      <td>0.0</td>\n",
       "      <td>01/01/2020 00:00</td>\n",
       "      <td>0.0</td>\n",
       "      <td>1.509849</td>\n",
       "    </tr>\n",
       "    <tr>\n",
       "      <th>1</th>\n",
       "      <td>1.0</td>\n",
       "      <td>01/01/2020 01:00</td>\n",
       "      <td>0.0</td>\n",
       "      <td>1.411859</td>\n",
       "    </tr>\n",
       "    <tr>\n",
       "      <th>2</th>\n",
       "      <td>2.0</td>\n",
       "      <td>01/01/2020 02:00</td>\n",
       "      <td>0.0</td>\n",
       "      <td>1.023898</td>\n",
       "    </tr>\n",
       "    <tr>\n",
       "      <th>3</th>\n",
       "      <td>3.0</td>\n",
       "      <td>01/01/2020 03:00</td>\n",
       "      <td>0.0</td>\n",
       "      <td>0.642000</td>\n",
       "    </tr>\n",
       "    <tr>\n",
       "      <th>4</th>\n",
       "      <td>4.0</td>\n",
       "      <td>01/01/2020 04:00</td>\n",
       "      <td>0.0</td>\n",
       "      <td>0.960000</td>\n",
       "    </tr>\n",
       "  </tbody>\n",
       "</table>\n",
       "</div>"
      ],
      "text/plain": [
       "   Hour   Date/hour start  Solar electricity generation (kWh)  \\\n",
       "0   0.0  01/01/2020 00:00                                 0.0   \n",
       "1   1.0  01/01/2020 01:00                                 0.0   \n",
       "2   2.0  01/01/2020 02:00                                 0.0   \n",
       "3   3.0  01/01/2020 03:00                                 0.0   \n",
       "4   4.0  01/01/2020 04:00                                 0.0   \n",
       "\n",
       "   Electricity usage (kWh)  \n",
       "0                 1.509849  \n",
       "1                 1.411859  \n",
       "2                 1.023898  \n",
       "3                 0.642000  \n",
       "4                 0.960000  "
      ]
     },
     "execution_count": 53,
     "metadata": {},
     "output_type": "execute_result"
    }
   ],
   "source": [
    "#1st 5 rows of the cleaned data\n",
    "df.head()"
   ]
  },
  {
   "cell_type": "markdown",
   "metadata": {},
   "source": [
    "### Univariate Analysis\n",
    "### Detecting Outliers Using Boxplot"
   ]
  },
  {
   "cell_type": "code",
   "execution_count": 54,
   "metadata": {},
   "outputs": [
    {
     "data": {
      "text/plain": [
       "<Axes: ylabel='Solar electricity generation (kWh)'>"
      ]
     },
     "execution_count": 54,
     "metadata": {},
     "output_type": "execute_result"
    },
    {
     "data": {
      "image/png": "[encoded data removed]",
      "text/plain": [
       "<Figure size 640x480 with 1 Axes>"
      ]
     },
     "metadata": {},
     "output_type": "display_data"
    }
   ],
   "source": [
    "#Univariate Analysis\n",
    "#checking for outliers using Boxplot\n",
    "sns.boxplot(df['Solar electricity generation (kWh)'])"
   ]
  },
  {
   "cell_type": "code",
   "execution_count": 55,
   "metadata": {},
   "outputs": [
    {
     "data": {
      "text/plain": [
       "<Axes: ylabel='Electricity usage (kWh)'>"
      ]
     },
     "execution_count": 55,
     "metadata": {},
     "output_type": "execute_result"
    },
    {
     "data": {
      "image/png": "[encoded data removed]",
      "text/plain": [
       "<Figure size 640x480 with 1 Axes>"
      ]
     },
     "metadata": {},
     "output_type": "display_data"
    }
   ],
   "source": [
    "#Univariate Analysis\n",
    "#checking for outliers using Boxplot\n",
    "sns.boxplot(df['Electricity usage (kWh)'])"
   ]
  },
  {
   "cell_type": "markdown",
   "metadata": {},
   "source": [
    "### Removing Outliers Using Inter Quartile Range (IQR) Method"
   ]
  },
  {
   "cell_type": "code",
   "execution_count": 56,
   "metadata": {},
   "outputs": [
    {
     "name": "stdout",
     "output_type": "stream",
     "text": [
      "The respective values for Q3,Q1,and IQR are: (np.float64(1.27275), np.float64(0.0), np.float64(1.27275))\n"
     ]
    }
   ],
   "source": [
    "#Finding the Quartile Values\n",
    "Q3=df['Solar electricity generation (kWh)'].quantile(0.75)\n",
    "Q1=df['Solar electricity generation (kWh)'].quantile(0.25)\n",
    "IQR=Q3-Q1\n",
    "print(f\"The respective values for Q3,Q1,and IQR are: {Q3,Q1,IQR}\")"
   ]
  },
  {
   "cell_type": "code",
   "execution_count": 57,
   "metadata": {},
   "outputs": [
    {
     "name": "stdout",
     "output_type": "stream",
     "text": [
      "the lower bound is:-1.909125, and the upper bound is:3.181875\n"
     ]
    }
   ],
   "source": [
    "#Finding Lower and Upper Bounds\n",
    "lower_bound=Q1-IQR*1.5\n",
    "upper_bound=Q3+IQR*1.5\n",
    "print(f\"the lower bound is:{lower_bound}, and the upper bound is:{upper_bound}\")"
   ]
  },
  {
   "cell_type": "code",
   "execution_count": 58,
   "metadata": {},
   "outputs": [
    {
     "data": {
      "text/html": [
       "<div>\n",
       "<style scoped>\n",
       "    .dataframe tbody tr th:only-of-type {\n",
       "        vertical-align: middle;\n",
       "    }\n",
       "\n",
       "    .dataframe tbody tr th {\n",
       "        vertical-align: top;\n",
       "    }\n",
       "\n",
       "    .dataframe thead th {\n",
       "        text-align: right;\n",
       "    }\n",
       "</style>\n",
       "<table border=\"1\" class=\"dataframe\">\n",
       "  <thead>\n",
       "    <tr style=\"text-align: right;\">\n",
       "      <th></th>\n",
       "      <th>Hour</th>\n",
       "      <th>Date/hour start</th>\n",
       "      <th>Solar electricity generation (kWh)</th>\n",
       "      <th>Electricity usage (kWh)</th>\n",
       "    </tr>\n",
       "  </thead>\n",
       "  <tbody>\n",
       "    <tr>\n",
       "      <th>61</th>\n",
       "      <td>13.0</td>\n",
       "      <td>03/01/2020 13:00</td>\n",
       "      <td>3.336</td>\n",
       "      <td>0.048</td>\n",
       "    </tr>\n",
       "    <tr>\n",
       "      <th>156</th>\n",
       "      <td>12.0</td>\n",
       "      <td>07/01/2020 12:00</td>\n",
       "      <td>5.001</td>\n",
       "      <td>0.438</td>\n",
       "    </tr>\n",
       "    <tr>\n",
       "      <th>157</th>\n",
       "      <td>13.0</td>\n",
       "      <td>07/01/2020 13:00</td>\n",
       "      <td>3.969</td>\n",
       "      <td>0.012</td>\n",
       "    </tr>\n",
       "    <tr>\n",
       "      <th>275</th>\n",
       "      <td>11.0</td>\n",
       "      <td>12/01/2020 11:00</td>\n",
       "      <td>3.315</td>\n",
       "      <td>0.387</td>\n",
       "    </tr>\n",
       "    <tr>\n",
       "      <th>276</th>\n",
       "      <td>12.0</td>\n",
       "      <td>12/01/2020 12:00</td>\n",
       "      <td>5.214</td>\n",
       "      <td>46000.000</td>\n",
       "    </tr>\n",
       "    <tr>\n",
       "      <th>...</th>\n",
       "      <td>...</td>\n",
       "      <td>...</td>\n",
       "      <td>...</td>\n",
       "      <td>...</td>\n",
       "    </tr>\n",
       "    <tr>\n",
       "      <th>8575</th>\n",
       "      <td>7.0</td>\n",
       "      <td>24/12/2020 07:00</td>\n",
       "      <td>4.203</td>\n",
       "      <td>11.802</td>\n",
       "    </tr>\n",
       "    <tr>\n",
       "      <th>8624</th>\n",
       "      <td>8.0</td>\n",
       "      <td>26/12/2020 08:00</td>\n",
       "      <td>3.270</td>\n",
       "      <td>16.938</td>\n",
       "    </tr>\n",
       "    <tr>\n",
       "      <th>8672</th>\n",
       "      <td>8.0</td>\n",
       "      <td>28/12/2020 08:00</td>\n",
       "      <td>4.545</td>\n",
       "      <td>0.246</td>\n",
       "    </tr>\n",
       "    <tr>\n",
       "      <th>8673</th>\n",
       "      <td>9.0</td>\n",
       "      <td>28/12/2020 09:00</td>\n",
       "      <td>3.345</td>\n",
       "      <td>0.501</td>\n",
       "    </tr>\n",
       "    <tr>\n",
       "      <th>8724</th>\n",
       "      <td>12.0</td>\n",
       "      <td>30/12/2020 12:00</td>\n",
       "      <td>3.957</td>\n",
       "      <td>1.308</td>\n",
       "    </tr>\n",
       "  </tbody>\n",
       "</table>\n",
       "<p>1124 rows × 4 columns</p>\n",
       "</div>"
      ],
      "text/plain": [
       "      Hour   Date/hour start  Solar electricity generation (kWh)  \\\n",
       "61    13.0  03/01/2020 13:00                               3.336   \n",
       "156   12.0  07/01/2020 12:00                               5.001   \n",
       "157   13.0  07/01/2020 13:00                               3.969   \n",
       "275   11.0  12/01/2020 11:00                               3.315   \n",
       "276   12.0  12/01/2020 12:00                               5.214   \n",
       "...    ...               ...                                 ...   \n",
       "8575   7.0  24/12/2020 07:00                               4.203   \n",
       "8624   8.0  26/12/2020 08:00                               3.270   \n",
       "8672   8.0  28/12/2020 08:00                               4.545   \n",
       "8673   9.0  28/12/2020 09:00                               3.345   \n",
       "8724  12.0  30/12/2020 12:00                               3.957   \n",
       "\n",
       "      Electricity usage (kWh)  \n",
       "61                      0.048  \n",
       "156                     0.438  \n",
       "157                     0.012  \n",
       "275                     0.387  \n",
       "276                 46000.000  \n",
       "...                       ...  \n",
       "8575                   11.802  \n",
       "8624                   16.938  \n",
       "8672                    0.246  \n",
       "8673                    0.501  \n",
       "8724                    1.308  \n",
       "\n",
       "[1124 rows x 4 columns]"
      ]
     },
     "execution_count": 58,
     "metadata": {},
     "output_type": "execute_result"
    }
   ],
   "source": [
    "#Detecting Outliers in the Solar Generation Column\n",
    "solar_outlier=df[(df['Solar electricity generation (kWh)']<lower_bound) | (df['Solar electricity generation (kWh)']>upper_bound)]\n",
    "solar_outlier"
   ]
  },
  {
   "cell_type": "code",
   "execution_count": 59,
   "metadata": {},
   "outputs": [],
   "source": [
    "#removing the solar outliers\n",
    "df=df[~((df['Solar electricity generation (kWh)']<= lower_bound)|(df['Solar electricity generation (kWh)']>=upper_bound))]"
   ]
  },
  {
   "cell_type": "code",
   "execution_count": 60,
   "metadata": {},
   "outputs": [
    {
     "data": {
      "text/plain": [
       "<Axes: ylabel='Solar electricity generation (kWh)'>"
      ]
     },
     "execution_count": 60,
     "metadata": {},
     "output_type": "execute_result"
    },
    {
     "data": {
      "image/png": "[encoded data removed]",
      "text/plain": [
       "<Figure size 640x480 with 1 Axes>"
      ]
     },
     "metadata": {},
     "output_type": "display_data"
    }
   ],
   "source": [
    "#checking the new data after removing outliers\n",
    "sns.boxplot(df['Solar electricity generation (kWh)'])"
   ]
  },
  {
   "cell_type": "code",
   "execution_count": 61,
   "metadata": {},
   "outputs": [
    {
     "name": "stdout",
     "output_type": "stream",
     "text": [
      "Q3:1.845,Q1:0.33,IQR:1.515\n"
     ]
    },
    {
     "data": {
      "text/html": [
       "<div>\n",
       "<style scoped>\n",
       "    .dataframe tbody tr th:only-of-type {\n",
       "        vertical-align: middle;\n",
       "    }\n",
       "\n",
       "    .dataframe tbody tr th {\n",
       "        vertical-align: top;\n",
       "    }\n",
       "\n",
       "    .dataframe thead th {\n",
       "        text-align: right;\n",
       "    }\n",
       "</style>\n",
       "<table border=\"1\" class=\"dataframe\">\n",
       "  <thead>\n",
       "    <tr style=\"text-align: right;\">\n",
       "      <th></th>\n",
       "      <th>Hour</th>\n",
       "      <th>Date/hour start</th>\n",
       "      <th>Solar electricity generation (kWh)</th>\n",
       "      <th>Electricity usage (kWh)</th>\n",
       "    </tr>\n",
       "  </thead>\n",
       "  <tbody>\n",
       "    <tr>\n",
       "      <th>17</th>\n",
       "      <td>17.0</td>\n",
       "      <td>01/01/2020 17:00</td>\n",
       "      <td>0.006</td>\n",
       "      <td>-12.6240</td>\n",
       "    </tr>\n",
       "    <tr>\n",
       "      <th>18</th>\n",
       "      <td>18.0</td>\n",
       "      <td>01/01/2020 18:00</td>\n",
       "      <td>0.000</td>\n",
       "      <td>8.9298</td>\n",
       "    </tr>\n",
       "    <tr>\n",
       "      <th>20</th>\n",
       "      <td>20.0</td>\n",
       "      <td>01/01/2020 20:00</td>\n",
       "      <td>0.003</td>\n",
       "      <td>4.4286</td>\n",
       "    </tr>\n",
       "    <tr>\n",
       "      <th>21</th>\n",
       "      <td>21.0</td>\n",
       "      <td>01/01/2020 21:00</td>\n",
       "      <td>0.003</td>\n",
       "      <td>6.7890</td>\n",
       "    </tr>\n",
       "    <tr>\n",
       "      <th>37</th>\n",
       "      <td>13.0</td>\n",
       "      <td>02/01/2020 13:00</td>\n",
       "      <td>0.504</td>\n",
       "      <td>22.5000</td>\n",
       "    </tr>\n",
       "    <tr>\n",
       "      <th>...</th>\n",
       "      <td>...</td>\n",
       "      <td>...</td>\n",
       "      <td>...</td>\n",
       "      <td>...</td>\n",
       "    </tr>\n",
       "    <tr>\n",
       "      <th>8726</th>\n",
       "      <td>14.0</td>\n",
       "      <td>30/12/2020 14:00</td>\n",
       "      <td>0.744</td>\n",
       "      <td>26.2260</td>\n",
       "    </tr>\n",
       "    <tr>\n",
       "      <th>8730</th>\n",
       "      <td>18.0</td>\n",
       "      <td>30/12/2020 18:00</td>\n",
       "      <td>0.012</td>\n",
       "      <td>7.0092</td>\n",
       "    </tr>\n",
       "    <tr>\n",
       "      <th>8754</th>\n",
       "      <td>18.0</td>\n",
       "      <td>31/12/2020 18:00</td>\n",
       "      <td>0.012</td>\n",
       "      <td>4.8972</td>\n",
       "    </tr>\n",
       "    <tr>\n",
       "      <th>8755</th>\n",
       "      <td>19.0</td>\n",
       "      <td>31/12/2020 19:00</td>\n",
       "      <td>0.012</td>\n",
       "      <td>4.3956</td>\n",
       "    </tr>\n",
       "    <tr>\n",
       "      <th>8756</th>\n",
       "      <td>20.0</td>\n",
       "      <td>31/12/2020 20:00</td>\n",
       "      <td>0.003</td>\n",
       "      <td>4.5606</td>\n",
       "    </tr>\n",
       "  </tbody>\n",
       "</table>\n",
       "<p>854 rows × 4 columns</p>\n",
       "</div>"
      ],
      "text/plain": [
       "      Hour   Date/hour start  Solar electricity generation (kWh)  \\\n",
       "17    17.0  01/01/2020 17:00                               0.006   \n",
       "18    18.0  01/01/2020 18:00                               0.000   \n",
       "20    20.0  01/01/2020 20:00                               0.003   \n",
       "21    21.0  01/01/2020 21:00                               0.003   \n",
       "37    13.0  02/01/2020 13:00                               0.504   \n",
       "...    ...               ...                                 ...   \n",
       "8726  14.0  30/12/2020 14:00                               0.744   \n",
       "8730  18.0  30/12/2020 18:00                               0.012   \n",
       "8754  18.0  31/12/2020 18:00                               0.012   \n",
       "8755  19.0  31/12/2020 19:00                               0.012   \n",
       "8756  20.0  31/12/2020 20:00                               0.003   \n",
       "\n",
       "      Electricity usage (kWh)  \n",
       "17                   -12.6240  \n",
       "18                     8.9298  \n",
       "20                     4.4286  \n",
       "21                     6.7890  \n",
       "37                    22.5000  \n",
       "...                       ...  \n",
       "8726                  26.2260  \n",
       "8730                   7.0092  \n",
       "8754                   4.8972  \n",
       "8755                   4.3956  \n",
       "8756                   4.5606  \n",
       "\n",
       "[854 rows x 4 columns]"
      ]
     },
     "execution_count": 61,
     "metadata": {},
     "output_type": "execute_result"
    }
   ],
   "source": [
    "#Detecting outliers in the Electricity Usage Column\n",
    "q3=df['Electricity usage (kWh)'].quantile(0.75)\n",
    "q1=df['Electricity usage (kWh)'].quantile(0.25)\n",
    "iqr=q3-q1\n",
    "e_lowerbound=q1-iqr*1.5\n",
    "e_upperbound=q3+iqr*1.5\n",
    "electricity_outlier=df[(df['Electricity usage (kWh)']<e_lowerbound)|(df['Electricity usage (kWh)']>e_upperbound)]\n",
    "print(f\"Q3:{q3},Q1:{q1},IQR:{iqr}\")\n",
    "electricity_outlier"
   ]
  },
  {
   "cell_type": "code",
   "execution_count": 62,
   "metadata": {},
   "outputs": [],
   "source": [
    "#removing the electricity_outlier\n",
    "df=df[~((df['Electricity usage (kWh)']<=e_lowerbound)|(df['Electricity usage (kWh)']>=e_upperbound))]"
   ]
  },
  {
   "cell_type": "code",
   "execution_count": 63,
   "metadata": {},
   "outputs": [
    {
     "data": {
      "text/plain": [
       "<Axes: ylabel='Electricity usage (kWh)'>"
      ]
     },
     "execution_count": 63,
     "metadata": {},
     "output_type": "execute_result"
    },
    {
     "data": {
      "image/png": "[encoded data removed]",
      "text/plain": [
       "<Figure size 640x480 with 1 Axes>"
      ]
     },
     "metadata": {},
     "output_type": "display_data"
    }
   ],
   "source": [
    "#checking the new data after removing electricity outlier\n",
    "sns.boxplot(df['Electricity usage (kWh)'])"
   ]
  },
  {
   "cell_type": "markdown",
   "metadata": {},
   "source": [
    "## Data Manipulation & Visualization"
   ]
  },
  {
   "cell_type": "code",
   "execution_count": 64,
   "metadata": {},
   "outputs": [
    {
     "data": {
      "text/html": [
       "<div>\n",
       "<style scoped>\n",
       "    .dataframe tbody tr th:only-of-type {\n",
       "        vertical-align: middle;\n",
       "    }\n",
       "\n",
       "    .dataframe tbody tr th {\n",
       "        vertical-align: top;\n",
       "    }\n",
       "\n",
       "    .dataframe thead th {\n",
       "        text-align: right;\n",
       "    }\n",
       "</style>\n",
       "<table border=\"1\" class=\"dataframe\">\n",
       "  <thead>\n",
       "    <tr style=\"text-align: right;\">\n",
       "      <th></th>\n",
       "      <th>Solar electricity generation (kWh)</th>\n",
       "      <th>Electricity usage (kWh)</th>\n",
       "    </tr>\n",
       "  </thead>\n",
       "  <tbody>\n",
       "    <tr>\n",
       "      <th>count</th>\n",
       "      <td>6782.000000</td>\n",
       "      <td>6782.000000</td>\n",
       "    </tr>\n",
       "    <tr>\n",
       "      <th>mean</th>\n",
       "      <td>0.429767</td>\n",
       "      <td>0.957418</td>\n",
       "    </tr>\n",
       "    <tr>\n",
       "      <th>std</th>\n",
       "      <td>0.744858</td>\n",
       "      <td>0.883042</td>\n",
       "    </tr>\n",
       "    <tr>\n",
       "      <th>min</th>\n",
       "      <td>0.000000</td>\n",
       "      <td>-0.217500</td>\n",
       "    </tr>\n",
       "    <tr>\n",
       "      <th>25%</th>\n",
       "      <td>0.000000</td>\n",
       "      <td>0.306000</td>\n",
       "    </tr>\n",
       "    <tr>\n",
       "      <th>50%</th>\n",
       "      <td>0.012000</td>\n",
       "      <td>0.594000</td>\n",
       "    </tr>\n",
       "    <tr>\n",
       "      <th>75%</th>\n",
       "      <td>0.561000</td>\n",
       "      <td>1.332000</td>\n",
       "    </tr>\n",
       "    <tr>\n",
       "      <th>max</th>\n",
       "      <td>3.180000</td>\n",
       "      <td>4.098600</td>\n",
       "    </tr>\n",
       "  </tbody>\n",
       "</table>\n",
       "</div>"
      ],
      "text/plain": [
       "       Solar electricity generation (kWh)  Electricity usage (kWh)\n",
       "count                         6782.000000              6782.000000\n",
       "mean                             0.429767                 0.957418\n",
       "std                              0.744858                 0.883042\n",
       "min                              0.000000                -0.217500\n",
       "25%                              0.000000                 0.306000\n",
       "50%                              0.012000                 0.594000\n",
       "75%                              0.561000                 1.332000\n",
       "max                              3.180000                 4.098600"
      ]
     },
     "execution_count": 64,
     "metadata": {},
     "output_type": "execute_result"
    }
   ],
   "source": [
    "#Getting the Summary Statistics for solar electricity generation and electric usage\n",
    "df[['Solar electricity generation (kWh)','Electricity usage (kWh)']].describe()"
   ]
  },
  {
   "cell_type": "code",
   "execution_count": 65,
   "metadata": {},
   "outputs": [],
   "source": [
    "#Converting the date/hour column into datetime\n",
    "#df['Date/hour start']=df['Date/hour start'].datetime(mmmm-dd-yy-hh)\n",
    "df['Date/hour start']=pd.to_datetime(df['Date/hour start'], errors='coerce',dayfirst=True)"
   ]
  },
  {
   "cell_type": "code",
   "execution_count": 66,
   "metadata": {},
   "outputs": [
    {
     "data": {
      "text/plain": [
       "Hour                                  0\n",
       "Date/hour start                       0\n",
       "Solar electricity generation (kWh)    0\n",
       "Electricity usage (kWh)               0\n",
       "dtype: int64"
      ]
     },
     "execution_count": 66,
     "metadata": {},
     "output_type": "execute_result"
    }
   ],
   "source": [
    "#Checking for nulls after date conversion\n",
    "df.isnull().sum()"
   ]
  },
  {
   "cell_type": "code",
   "execution_count": 67,
   "metadata": {},
   "outputs": [
    {
     "data": {
      "text/plain": [
       "0        January\n",
       "1        January\n",
       "2        January\n",
       "3        January\n",
       "4        January\n",
       "          ...   \n",
       "8752    December\n",
       "8753    December\n",
       "8757    December\n",
       "8758    December\n",
       "8759    December\n",
       "Name: Date/hour start, Length: 6782, dtype: object"
      ]
     },
     "execution_count": 67,
     "metadata": {},
     "output_type": "execute_result"
    }
   ],
   "source": [
    "#Extracting month from the date/hour column \n",
    "month_extract=df['Date/hour start'].dt.month_name\n",
    "month_extract()"
   ]
  },
  {
   "cell_type": "code",
   "execution_count": 68,
   "metadata": {},
   "outputs": [],
   "source": [
    "#Permanently adding the month_extract column to the dataframe\n",
    "df['month_extract']=month_extract()"
   ]
  },
  {
   "cell_type": "code",
   "execution_count": 69,
   "metadata": {},
   "outputs": [
    {
     "data": {
      "text/html": [
       "<div>\n",
       "<style scoped>\n",
       "    .dataframe tbody tr th:only-of-type {\n",
       "        vertical-align: middle;\n",
       "    }\n",
       "\n",
       "    .dataframe tbody tr th {\n",
       "        vertical-align: top;\n",
       "    }\n",
       "\n",
       "    .dataframe thead th {\n",
       "        text-align: right;\n",
       "    }\n",
       "</style>\n",
       "<table border=\"1\" class=\"dataframe\">\n",
       "  <thead>\n",
       "    <tr style=\"text-align: right;\">\n",
       "      <th></th>\n",
       "      <th>Hour</th>\n",
       "      <th>Date/hour start</th>\n",
       "      <th>Solar electricity generation (kWh)</th>\n",
       "      <th>Electricity usage (kWh)</th>\n",
       "      <th>month_extract</th>\n",
       "    </tr>\n",
       "  </thead>\n",
       "  <tbody>\n",
       "  </tbody>\n",
       "</table>\n",
       "</div>"
      ],
      "text/plain": [
       "Empty DataFrame\n",
       "Columns: [Hour, Date/hour start, Solar electricity generation (kWh), Electricity usage (kWh), month_extract]\n",
       "Index: []"
      ]
     },
     "execution_count": 69,
     "metadata": {},
     "output_type": "execute_result"
    }
   ],
   "source": [
    "#Newly updated Dataset\n",
    "#Checking the updated columns using indexes\n",
    "df.iloc[7000:7003]"
   ]
  },
  {
   "cell_type": "markdown",
   "metadata": {},
   "source": [
    "## Univariate Analysis"
   ]
  },
  {
   "cell_type": "markdown",
   "metadata": {},
   "source": [
    "## Bivariate Analysis"
   ]
  },
  {
   "cell_type": "code",
   "execution_count": 70,
   "metadata": {},
   "outputs": [
    {
     "data": {
      "text/plain": [
       "month_extract\n",
       "December     104.523\n",
       "January      110.325\n",
       "February     175.416\n",
       "November     177.273\n",
       "March        245.766\n",
       "October      247.119\n",
       "April        270.009\n",
       "September    285.921\n",
       "May          287.664\n",
       "August       330.111\n",
       "July         337.965\n",
       "June         342.585\n",
       "Name: Solar electricity generation (kWh), dtype: float64"
      ]
     },
     "execution_count": 70,
     "metadata": {},
     "output_type": "execute_result"
    }
   ],
   "source": [
    "#Total solar electricity generated per month. Sorted from lowest generation to highest\n",
    "total_solar_gen=df.groupby('month_extract')['Solar electricity generation (kWh)'].sum().sort_values(ascending=True)\n",
    "total_solar_gen"
   ]
  },
  {
   "cell_type": "code",
   "execution_count": 71,
   "metadata": {},
   "outputs": [
    {
     "data": {
      "text/plain": [
       "<Axes: ylabel='month_extract'>"
      ]
     },
     "execution_count": 71,
     "metadata": {},
     "output_type": "execute_result"
    },
    {
     "data": {
      "image/png": "[encoded data removed]",
      "text/plain": [
       "<Figure size 640x480 with 1 Axes>"
      ]
     },
     "metadata": {},
     "output_type": "display_data"
    }
   ],
   "source": [
    "#Bar graph visual of monthly solar generation\n",
    "total_solar_gen.plot(kind='barh')"
   ]
  },
  {
   "cell_type": "code",
   "execution_count": 72,
   "metadata": {},
   "outputs": [
    {
     "data": {
      "text/plain": [
       "month_extract\n",
       "May          420.124409\n",
       "June         420.546738\n",
       "July         447.505521\n",
       "April        486.819574\n",
       "August       500.277651\n",
       "October      526.418876\n",
       "February     533.812610\n",
       "November     564.788569\n",
       "September    588.616427\n",
       "March        611.187868\n",
       "January      675.819181\n",
       "December     717.292595\n",
       "Name: Electricity usage (kWh), dtype: float64"
      ]
     },
     "execution_count": 72,
     "metadata": {},
     "output_type": "execute_result"
    }
   ],
   "source": [
    "#Monthy electricity usage\n",
    "monthly_electricityusage=df.groupby('month_extract')['Electricity usage (kWh)'].sum().sort_values(ascending=True)\n",
    "monthly_electricityusage"
   ]
  },
  {
   "cell_type": "code",
   "execution_count": 73,
   "metadata": {},
   "outputs": [
    {
     "data": {
      "text/plain": [
       "<Axes: ylabel='Electricity usage (kWh)'>"
      ]
     },
     "execution_count": 73,
     "metadata": {},
     "output_type": "execute_result"
    },
    {
     "data": {
      "image/png": "[encoded data removed]",
      "text/plain": [
       "<Figure size 600x1500 with 1 Axes>"
      ]
     },
     "metadata": {},
     "output_type": "display_data"
    }
   ],
   "source": [
    "#Visual for monthly electricity usage # using explode and color to enhance the visual\n",
    "explode=[0.0,0.0,0.0,0.0,0.0,0.0,0.0,0.0,0.0,0.0,0.0,0.1,]\n",
    "color=['Red','Green','Blue','Orange','purple','Lime','Yellow','Brown','Pink','cyan','Magenta','Teal']\n",
    "plt.figure(figsize=(6,15))\n",
    "monthly_electricityusage.plot.pie(explode=explode,colors=color,autopct='%1.1F%%')"
   ]
  },
  {
   "cell_type": "code",
   "execution_count": 74,
   "metadata": {},
   "outputs": [
    {
     "data": {
      "text/html": [
       "<div>\n",
       "<style scoped>\n",
       "    .dataframe tbody tr th:only-of-type {\n",
       "        vertical-align: middle;\n",
       "    }\n",
       "\n",
       "    .dataframe tbody tr th {\n",
       "        vertical-align: top;\n",
       "    }\n",
       "\n",
       "    .dataframe thead th {\n",
       "        text-align: right;\n",
       "    }\n",
       "</style>\n",
       "<table border=\"1\" class=\"dataframe\">\n",
       "  <thead>\n",
       "    <tr style=\"text-align: right;\">\n",
       "      <th></th>\n",
       "      <th>Hour</th>\n",
       "      <th>Date/hour start</th>\n",
       "      <th>Solar electricity generation (kWh)</th>\n",
       "      <th>Electricity usage (kWh)</th>\n",
       "      <th>month_extract</th>\n",
       "    </tr>\n",
       "  </thead>\n",
       "  <tbody>\n",
       "    <tr>\n",
       "      <th>0</th>\n",
       "      <td>0.0</td>\n",
       "      <td>2020-01-01 00:00:00</td>\n",
       "      <td>0.0</td>\n",
       "      <td>1.509849</td>\n",
       "      <td>January</td>\n",
       "    </tr>\n",
       "    <tr>\n",
       "      <th>1</th>\n",
       "      <td>1.0</td>\n",
       "      <td>2020-01-01 01:00:00</td>\n",
       "      <td>0.0</td>\n",
       "      <td>1.411859</td>\n",
       "      <td>January</td>\n",
       "    </tr>\n",
       "    <tr>\n",
       "      <th>2</th>\n",
       "      <td>2.0</td>\n",
       "      <td>2020-01-01 02:00:00</td>\n",
       "      <td>0.0</td>\n",
       "      <td>1.023898</td>\n",
       "      <td>January</td>\n",
       "    </tr>\n",
       "    <tr>\n",
       "      <th>3</th>\n",
       "      <td>3.0</td>\n",
       "      <td>2020-01-01 03:00:00</td>\n",
       "      <td>0.0</td>\n",
       "      <td>0.642000</td>\n",
       "      <td>January</td>\n",
       "    </tr>\n",
       "    <tr>\n",
       "      <th>4</th>\n",
       "      <td>4.0</td>\n",
       "      <td>2020-01-01 04:00:00</td>\n",
       "      <td>0.0</td>\n",
       "      <td>0.960000</td>\n",
       "      <td>January</td>\n",
       "    </tr>\n",
       "  </tbody>\n",
       "</table>\n",
       "</div>"
      ],
      "text/plain": [
       "   Hour     Date/hour start  Solar electricity generation (kWh)  \\\n",
       "0   0.0 2020-01-01 00:00:00                                 0.0   \n",
       "1   1.0 2020-01-01 01:00:00                                 0.0   \n",
       "2   2.0 2020-01-01 02:00:00                                 0.0   \n",
       "3   3.0 2020-01-01 03:00:00                                 0.0   \n",
       "4   4.0 2020-01-01 04:00:00                                 0.0   \n",
       "\n",
       "   Electricity usage (kWh) month_extract  \n",
       "0                 1.509849       January  \n",
       "1                 1.411859       January  \n",
       "2                 1.023898       January  \n",
       "3                 0.642000       January  \n",
       "4                 0.960000       January  "
      ]
     },
     "execution_count": 74,
     "metadata": {},
     "output_type": "execute_result"
    }
   ],
   "source": [
    "df.head()"
   ]
  },
  {
   "cell_type": "code",
   "execution_count": 75,
   "metadata": {},
   "outputs": [
    {
     "name": "stderr",
     "output_type": "stream",
     "text": [
      "C:\\Users\\Administrator\\AppData\\Local\\Temp\\ipykernel_15660\\2691875711.py:5: FutureWarning: The default of observed=False is deprecated and will be changed to True in a future version of pandas. Pass observed=False to retain current behavior or observed=True to adopt the future default and silence this warning.\n",
      "  hour_solar=df.groupby('month_extract')['Solar electricity generation (kWh)'].sum()\n"
     ]
    },
    {
     "data": {
      "text/plain": [
       "month_extract\n",
       "January      110.325\n",
       "February     175.416\n",
       "March        245.766\n",
       "April        270.009\n",
       "May          287.664\n",
       "June         342.585\n",
       "July         337.965\n",
       "August       330.111\n",
       "September    285.921\n",
       "October      247.119\n",
       "November     177.273\n",
       "December     104.523\n",
       "Name: Solar electricity generation (kWh), dtype: float64"
      ]
     },
     "execution_count": 75,
     "metadata": {},
     "output_type": "execute_result"
    }
   ],
   "source": [
    "#TO BE UPDATED ######\n",
    "#Total solar generated per month sorted by month from Jan to Dec\n",
    "month_order = ['January', 'February', 'March', 'April', 'May', 'June', 'July', 'August', 'September', 'October', 'November', 'December']\n",
    "df['month_extract']=pd.Categorical(df['month_extract'],categories=month_order,ordered=True)\n",
    "hour_solar=df.groupby('month_extract')['Solar electricity generation (kWh)'].sum()\n",
    "hour_solar"
   ]
  },
  {
   "cell_type": "code",
   "execution_count": 76,
   "metadata": {},
   "outputs": [
    {
     "data": {
      "text/plain": [
       "<Axes: xlabel='month_extract', ylabel='Solar electricity generation (kWh)'>"
      ]
     },
     "execution_count": 76,
     "metadata": {},
     "output_type": "execute_result"
    },
    {
     "data": {
      "image/png": "[encoded data removed]",
      "text/plain": [
       "<Figure size 640x480 with 1 Axes>"
      ]
     },
     "metadata": {},
     "output_type": "display_data"
    }
   ],
   "source": [
    "#To be updated #Bivariate Analysis\n",
    "sns.barplot(x=df['month_extract'], y=df['Solar electricity generation (kWh)'],data=df)"
   ]
  },
  {
   "cell_type": "markdown",
   "metadata": {},
   "source": [
    "## Multivariate Analysis"
   ]
  },
  {
   "cell_type": "code",
   "execution_count": 77,
   "metadata": {},
   "outputs": [
    {
     "data": {
      "text/html": [
       "<div>\n",
       "<style scoped>\n",
       "    .dataframe tbody tr th:only-of-type {\n",
       "        vertical-align: middle;\n",
       "    }\n",
       "\n",
       "    .dataframe tbody tr th {\n",
       "        vertical-align: top;\n",
       "    }\n",
       "\n",
       "    .dataframe thead th {\n",
       "        text-align: right;\n",
       "    }\n",
       "</style>\n",
       "<table border=\"1\" class=\"dataframe\">\n",
       "  <thead>\n",
       "    <tr style=\"text-align: right;\">\n",
       "      <th></th>\n",
       "      <th>Solar electricity generation (kWh)</th>\n",
       "      <th>Electricity usage (kWh)</th>\n",
       "    </tr>\n",
       "    <tr>\n",
       "      <th>Hour</th>\n",
       "      <th></th>\n",
       "      <th></th>\n",
       "    </tr>\n",
       "  </thead>\n",
       "  <tbody>\n",
       "    <tr>\n",
       "      <th>0.0</th>\n",
       "      <td>0.000000</td>\n",
       "      <td>0.711209</td>\n",
       "    </tr>\n",
       "    <tr>\n",
       "      <th>1.0</th>\n",
       "      <td>0.000000</td>\n",
       "      <td>0.390031</td>\n",
       "    </tr>\n",
       "    <tr>\n",
       "      <th>2.0</th>\n",
       "      <td>0.000000</td>\n",
       "      <td>0.250623</td>\n",
       "    </tr>\n",
       "    <tr>\n",
       "      <th>3.0</th>\n",
       "      <td>0.000000</td>\n",
       "      <td>0.407688</td>\n",
       "    </tr>\n",
       "    <tr>\n",
       "      <th>4.0</th>\n",
       "      <td>0.078975</td>\n",
       "      <td>0.457097</td>\n",
       "    </tr>\n",
       "    <tr>\n",
       "      <th>5.0</th>\n",
       "      <td>0.248263</td>\n",
       "      <td>0.488073</td>\n",
       "    </tr>\n",
       "    <tr>\n",
       "      <th>6.0</th>\n",
       "      <td>0.437137</td>\n",
       "      <td>0.622284</td>\n",
       "    </tr>\n",
       "    <tr>\n",
       "      <th>7.0</th>\n",
       "      <td>0.749225</td>\n",
       "      <td>0.993520</td>\n",
       "    </tr>\n",
       "    <tr>\n",
       "      <th>8.0</th>\n",
       "      <td>1.086791</td>\n",
       "      <td>0.960689</td>\n",
       "    </tr>\n",
       "    <tr>\n",
       "      <th>9.0</th>\n",
       "      <td>1.327587</td>\n",
       "      <td>0.770409</td>\n",
       "    </tr>\n",
       "    <tr>\n",
       "      <th>10.0</th>\n",
       "      <td>1.378963</td>\n",
       "      <td>0.763586</td>\n",
       "    </tr>\n",
       "    <tr>\n",
       "      <th>11.0</th>\n",
       "      <td>1.266102</td>\n",
       "      <td>0.792886</td>\n",
       "    </tr>\n",
       "    <tr>\n",
       "      <th>12.0</th>\n",
       "      <td>1.275295</td>\n",
       "      <td>0.759277</td>\n",
       "    </tr>\n",
       "    <tr>\n",
       "      <th>13.0</th>\n",
       "      <td>1.206717</td>\n",
       "      <td>0.796815</td>\n",
       "    </tr>\n",
       "    <tr>\n",
       "      <th>14.0</th>\n",
       "      <td>1.206603</td>\n",
       "      <td>0.810628</td>\n",
       "    </tr>\n",
       "    <tr>\n",
       "      <th>15.0</th>\n",
       "      <td>1.023719</td>\n",
       "      <td>0.800646</td>\n",
       "    </tr>\n",
       "    <tr>\n",
       "      <th>16.0</th>\n",
       "      <td>0.770619</td>\n",
       "      <td>0.887824</td>\n",
       "    </tr>\n",
       "    <tr>\n",
       "      <th>17.0</th>\n",
       "      <td>0.376895</td>\n",
       "      <td>1.071368</td>\n",
       "    </tr>\n",
       "    <tr>\n",
       "      <th>18.0</th>\n",
       "      <td>0.183622</td>\n",
       "      <td>2.194143</td>\n",
       "    </tr>\n",
       "    <tr>\n",
       "      <th>19.0</th>\n",
       "      <td>0.053879</td>\n",
       "      <td>2.370624</td>\n",
       "    </tr>\n",
       "    <tr>\n",
       "      <th>20.0</th>\n",
       "      <td>0.013606</td>\n",
       "      <td>2.511656</td>\n",
       "    </tr>\n",
       "    <tr>\n",
       "      <th>21.0</th>\n",
       "      <td>0.008928</td>\n",
       "      <td>1.570845</td>\n",
       "    </tr>\n",
       "    <tr>\n",
       "      <th>22.0</th>\n",
       "      <td>0.010204</td>\n",
       "      <td>1.513718</td>\n",
       "    </tr>\n",
       "    <tr>\n",
       "      <th>23.0</th>\n",
       "      <td>0.000000</td>\n",
       "      <td>0.982912</td>\n",
       "    </tr>\n",
       "  </tbody>\n",
       "</table>\n",
       "</div>"
      ],
      "text/plain": [
       "      Solar electricity generation (kWh)  Electricity usage (kWh)\n",
       "Hour                                                             \n",
       "0.0                             0.000000                 0.711209\n",
       "1.0                             0.000000                 0.390031\n",
       "2.0                             0.000000                 0.250623\n",
       "3.0                             0.000000                 0.407688\n",
       "4.0                             0.078975                 0.457097\n",
       "5.0                             0.248263                 0.488073\n",
       "6.0                             0.437137                 0.622284\n",
       "7.0                             0.749225                 0.993520\n",
       "8.0                             1.086791                 0.960689\n",
       "9.0                             1.327587                 0.770409\n",
       "10.0                            1.378963                 0.763586\n",
       "11.0                            1.266102                 0.792886\n",
       "12.0                            1.275295                 0.759277\n",
       "13.0                            1.206717                 0.796815\n",
       "14.0                            1.206603                 0.810628\n",
       "15.0                            1.023719                 0.800646\n",
       "16.0                            0.770619                 0.887824\n",
       "17.0                            0.376895                 1.071368\n",
       "18.0                            0.183622                 2.194143\n",
       "19.0                            0.053879                 2.370624\n",
       "20.0                            0.013606                 2.511656\n",
       "21.0                            0.008928                 1.570845\n",
       "22.0                            0.010204                 1.513718\n",
       "23.0                            0.000000                 0.982912"
      ]
     },
     "execution_count": 77,
     "metadata": {},
     "output_type": "execute_result"
    }
   ],
   "source": [
    "#Average Electricity Usage & Average Solar Generation\n",
    "avg_solar_electricity=df.groupby('Hour')[['Solar electricity generation (kWh)', 'Electricity usage (kWh)']].mean()\n",
    "avg_solar_electricity"
   ]
  },
  {
   "cell_type": "code",
   "execution_count": 78,
   "metadata": {},
   "outputs": [
    {
     "data": {
      "text/plain": [
       "<Axes: xlabel='Hour'>"
      ]
     },
     "execution_count": 78,
     "metadata": {},
     "output_type": "execute_result"
    },
    {
     "data": {
      "image/png": "[encoded data removed]",
      "text/plain": [
       "<Figure size 640x480 with 1 Axes>"
      ]
     },
     "metadata": {},
     "output_type": "display_data"
    }
   ],
   "source": [
    "avg_solar_electricity.plot(kind='line')"
   ]
  },
  {
   "cell_type": "markdown",
   "metadata": {},
   "source": [
    "### Calculating Electricity Bought"
   ]
  },
  {
   "cell_type": "code",
   "execution_count": 88,
   "metadata": {},
   "outputs": [],
   "source": [
    "#Calculating the electricity bought and #removing negatives in the new column\n",
    "df['elec_bought']=df['Electricity usage (kWh)']-df['Solar electricity generation (kWh)']\n",
    "df.loc[df['elec_bought']<0,'elec_bought']=0"
   ]
  },
  {
   "cell_type": "code",
   "execution_count": 80,
   "metadata": {},
   "outputs": [
    {
     "data": {
      "text/html": [
       "<div>\n",
       "<style scoped>\n",
       "    .dataframe tbody tr th:only-of-type {\n",
       "        vertical-align: middle;\n",
       "    }\n",
       "\n",
       "    .dataframe tbody tr th {\n",
       "        vertical-align: top;\n",
       "    }\n",
       "\n",
       "    .dataframe thead th {\n",
       "        text-align: right;\n",
       "    }\n",
       "</style>\n",
       "<table border=\"1\" class=\"dataframe\">\n",
       "  <thead>\n",
       "    <tr style=\"text-align: right;\">\n",
       "      <th></th>\n",
       "      <th>Hour</th>\n",
       "      <th>Date/hour start</th>\n",
       "      <th>Solar electricity generation (kWh)</th>\n",
       "      <th>Electricity usage (kWh)</th>\n",
       "      <th>month_extract</th>\n",
       "      <th>elec_bought</th>\n",
       "    </tr>\n",
       "  </thead>\n",
       "  <tbody>\n",
       "    <tr>\n",
       "      <th>0</th>\n",
       "      <td>0.0</td>\n",
       "      <td>2020-01-01 00:00:00</td>\n",
       "      <td>0.0</td>\n",
       "      <td>1.509849</td>\n",
       "      <td>January</td>\n",
       "      <td>1.509849</td>\n",
       "    </tr>\n",
       "    <tr>\n",
       "      <th>1</th>\n",
       "      <td>1.0</td>\n",
       "      <td>2020-01-01 01:00:00</td>\n",
       "      <td>0.0</td>\n",
       "      <td>1.411859</td>\n",
       "      <td>January</td>\n",
       "      <td>1.411859</td>\n",
       "    </tr>\n",
       "    <tr>\n",
       "      <th>2</th>\n",
       "      <td>2.0</td>\n",
       "      <td>2020-01-01 02:00:00</td>\n",
       "      <td>0.0</td>\n",
       "      <td>1.023898</td>\n",
       "      <td>January</td>\n",
       "      <td>1.023898</td>\n",
       "    </tr>\n",
       "    <tr>\n",
       "      <th>3</th>\n",
       "      <td>3.0</td>\n",
       "      <td>2020-01-01 03:00:00</td>\n",
       "      <td>0.0</td>\n",
       "      <td>0.642000</td>\n",
       "      <td>January</td>\n",
       "      <td>0.642000</td>\n",
       "    </tr>\n",
       "    <tr>\n",
       "      <th>4</th>\n",
       "      <td>4.0</td>\n",
       "      <td>2020-01-01 04:00:00</td>\n",
       "      <td>0.0</td>\n",
       "      <td>0.960000</td>\n",
       "      <td>January</td>\n",
       "      <td>0.960000</td>\n",
       "    </tr>\n",
       "  </tbody>\n",
       "</table>\n",
       "</div>"
      ],
      "text/plain": [
       "   Hour     Date/hour start  Solar electricity generation (kWh)  \\\n",
       "0   0.0 2020-01-01 00:00:00                                 0.0   \n",
       "1   1.0 2020-01-01 01:00:00                                 0.0   \n",
       "2   2.0 2020-01-01 02:00:00                                 0.0   \n",
       "3   3.0 2020-01-01 03:00:00                                 0.0   \n",
       "4   4.0 2020-01-01 04:00:00                                 0.0   \n",
       "\n",
       "   Electricity usage (kWh) month_extract  elec_bought  \n",
       "0                 1.509849       January     1.509849  \n",
       "1                 1.411859       January     1.411859  \n",
       "2                 1.023898       January     1.023898  \n",
       "3                 0.642000       January     0.642000  \n",
       "4                 0.960000       January     0.960000  "
      ]
     },
     "execution_count": 80,
     "metadata": {},
     "output_type": "execute_result"
    }
   ],
   "source": [
    "df.head()"
   ]
  },
  {
   "cell_type": "code",
   "execution_count": 81,
   "metadata": {},
   "outputs": [
    {
     "data": {
      "text/html": [
       "<div>\n",
       "<style scoped>\n",
       "    .dataframe tbody tr th:only-of-type {\n",
       "        vertical-align: middle;\n",
       "    }\n",
       "\n",
       "    .dataframe tbody tr th {\n",
       "        vertical-align: top;\n",
       "    }\n",
       "\n",
       "    .dataframe thead th {\n",
       "        text-align: right;\n",
       "    }\n",
       "</style>\n",
       "<table border=\"1\" class=\"dataframe\">\n",
       "  <thead>\n",
       "    <tr style=\"text-align: right;\">\n",
       "      <th></th>\n",
       "      <th>Hour</th>\n",
       "      <th>Date/hour start</th>\n",
       "      <th>Solar electricity generation (kWh)</th>\n",
       "      <th>Electricity usage (kWh)</th>\n",
       "      <th>elec_bought</th>\n",
       "    </tr>\n",
       "  </thead>\n",
       "  <tbody>\n",
       "    <tr>\n",
       "      <th>count</th>\n",
       "      <td>6782.000000</td>\n",
       "      <td>6782</td>\n",
       "      <td>6782.000000</td>\n",
       "      <td>6782.000000</td>\n",
       "      <td>6782.000000</td>\n",
       "    </tr>\n",
       "    <tr>\n",
       "      <th>mean</th>\n",
       "      <td>11.048363</td>\n",
       "      <td>2020-07-03 16:40:42.819227392</td>\n",
       "      <td>0.429767</td>\n",
       "      <td>0.957418</td>\n",
       "      <td>0.769530</td>\n",
       "    </tr>\n",
       "    <tr>\n",
       "      <th>min</th>\n",
       "      <td>0.000000</td>\n",
       "      <td>2020-01-01 00:00:00</td>\n",
       "      <td>0.000000</td>\n",
       "      <td>-0.217500</td>\n",
       "      <td>0.000000</td>\n",
       "    </tr>\n",
       "    <tr>\n",
       "      <th>25%</th>\n",
       "      <td>4.000000</td>\n",
       "      <td>2020-03-27 23:15:00</td>\n",
       "      <td>0.000000</td>\n",
       "      <td>0.306000</td>\n",
       "      <td>0.093248</td>\n",
       "    </tr>\n",
       "    <tr>\n",
       "      <th>50%</th>\n",
       "      <td>11.000000</td>\n",
       "      <td>2020-07-06 20:30:00</td>\n",
       "      <td>0.012000</td>\n",
       "      <td>0.594000</td>\n",
       "      <td>0.371963</td>\n",
       "    </tr>\n",
       "    <tr>\n",
       "      <th>75%</th>\n",
       "      <td>18.000000</td>\n",
       "      <td>2020-10-08 23:45:00</td>\n",
       "      <td>0.561000</td>\n",
       "      <td>1.332000</td>\n",
       "      <td>1.193020</td>\n",
       "    </tr>\n",
       "    <tr>\n",
       "      <th>max</th>\n",
       "      <td>23.000000</td>\n",
       "      <td>2020-12-31 23:00:00</td>\n",
       "      <td>3.180000</td>\n",
       "      <td>4.098600</td>\n",
       "      <td>4.092000</td>\n",
       "    </tr>\n",
       "    <tr>\n",
       "      <th>std</th>\n",
       "      <td>7.438269</td>\n",
       "      <td>NaN</td>\n",
       "      <td>0.744858</td>\n",
       "      <td>0.883042</td>\n",
       "      <td>0.915180</td>\n",
       "    </tr>\n",
       "  </tbody>\n",
       "</table>\n",
       "</div>"
      ],
      "text/plain": [
       "              Hour                Date/hour start  \\\n",
       "count  6782.000000                           6782   \n",
       "mean     11.048363  2020-07-03 16:40:42.819227392   \n",
       "min       0.000000            2020-01-01 00:00:00   \n",
       "25%       4.000000            2020-03-27 23:15:00   \n",
       "50%      11.000000            2020-07-06 20:30:00   \n",
       "75%      18.000000            2020-10-08 23:45:00   \n",
       "max      23.000000            2020-12-31 23:00:00   \n",
       "std       7.438269                            NaN   \n",
       "\n",
       "       Solar electricity generation (kWh)  Electricity usage (kWh)  \\\n",
       "count                         6782.000000              6782.000000   \n",
       "mean                             0.429767                 0.957418   \n",
       "min                              0.000000                -0.217500   \n",
       "25%                              0.000000                 0.306000   \n",
       "50%                              0.012000                 0.594000   \n",
       "75%                              0.561000                 1.332000   \n",
       "max                              3.180000                 4.098600   \n",
       "std                              0.744858                 0.883042   \n",
       "\n",
       "       elec_bought  \n",
       "count  6782.000000  \n",
       "mean      0.769530  \n",
       "min       0.000000  \n",
       "25%       0.093248  \n",
       "50%       0.371963  \n",
       "75%       1.193020  \n",
       "max       4.092000  \n",
       "std       0.915180  "
      ]
     },
     "execution_count": 81,
     "metadata": {},
     "output_type": "execute_result"
    }
   ],
   "source": [
    "df.describe()"
   ]
  },
  {
   "cell_type": "code",
   "execution_count": null,
   "metadata": {},
   "outputs": [],
   "source": [
    "#monthly electricity bought\n",
    "monthly_elecbought=df.groupby('month_extract')['elec_bought'].sum()\n",
    "monthly_elecbought"
   ]
  },
  {
   "cell_type": "code",
   "execution_count": 83,
   "metadata": {},
   "outputs": [
    {
     "data": {
      "image/png": "[encoded data removed]",
      "text/plain": [
       "<Figure size 1400x600 with 1 Axes>"
      ]
     },
     "metadata": {},
     "output_type": "display_data"
    }
   ],
   "source": [
    "plt.figure(figsize=(14,6))\n",
    "monthly_elecbought.plot(kind='bar',color='skyblue',width=0.6)\n",
    "plt.title('Monthly Electricity Bought',fontsize=19)\n",
    "plt.ylabel('electricity bought in KWh',fontsize=12)\n",
    "plt.xticks(rotation=360,fontsize=12,ha='center');"
   ]
  },
  {
   "cell_type": "markdown",
   "metadata": {},
   "source": [
    "### Calculating Excess Solar Generated"
   ]
  },
  {
   "cell_type": "code",
   "execution_count": 84,
   "metadata": {},
   "outputs": [],
   "source": [
    "#Calculating excess solar generation\n",
    "df['excess_solar_generated']=df['Solar electricity generation (kWh)']-df['Electricity usage (kWh)']"
   ]
  },
  {
   "cell_type": "code",
   "execution_count": 86,
   "metadata": {},
   "outputs": [],
   "source": [
    "#removing negatives in the excess excess solar generated column\n",
    "df.loc[df['excess_solar_generated']<0,'excess_solar_generated']=0"
   ]
  },
  {
   "cell_type": "code",
   "execution_count": 87,
   "metadata": {},
   "outputs": [
    {
     "data": {
      "text/html": [
       "<div>\n",
       "<style scoped>\n",
       "    .dataframe tbody tr th:only-of-type {\n",
       "        vertical-align: middle;\n",
       "    }\n",
       "\n",
       "    .dataframe tbody tr th {\n",
       "        vertical-align: top;\n",
       "    }\n",
       "\n",
       "    .dataframe thead th {\n",
       "        text-align: right;\n",
       "    }\n",
       "</style>\n",
       "<table border=\"1\" class=\"dataframe\">\n",
       "  <thead>\n",
       "    <tr style=\"text-align: right;\">\n",
       "      <th></th>\n",
       "      <th>Hour</th>\n",
       "      <th>Date/hour start</th>\n",
       "      <th>Solar electricity generation (kWh)</th>\n",
       "      <th>Electricity usage (kWh)</th>\n",
       "      <th>elec_bought</th>\n",
       "      <th>excess_solar_generated</th>\n",
       "    </tr>\n",
       "  </thead>\n",
       "  <tbody>\n",
       "    <tr>\n",
       "      <th>count</th>\n",
       "      <td>6782.000000</td>\n",
       "      <td>6782</td>\n",
       "      <td>6782.000000</td>\n",
       "      <td>6782.000000</td>\n",
       "      <td>6782.000000</td>\n",
       "      <td>6782.000000</td>\n",
       "    </tr>\n",
       "    <tr>\n",
       "      <th>mean</th>\n",
       "      <td>11.048363</td>\n",
       "      <td>2020-07-03 16:40:42.819227392</td>\n",
       "      <td>0.429767</td>\n",
       "      <td>0.957418</td>\n",
       "      <td>0.769530</td>\n",
       "      <td>0.241878</td>\n",
       "    </tr>\n",
       "    <tr>\n",
       "      <th>min</th>\n",
       "      <td>0.000000</td>\n",
       "      <td>2020-01-01 00:00:00</td>\n",
       "      <td>0.000000</td>\n",
       "      <td>-0.217500</td>\n",
       "      <td>0.000000</td>\n",
       "      <td>0.000000</td>\n",
       "    </tr>\n",
       "    <tr>\n",
       "      <th>25%</th>\n",
       "      <td>4.000000</td>\n",
       "      <td>2020-03-27 23:15:00</td>\n",
       "      <td>0.000000</td>\n",
       "      <td>0.306000</td>\n",
       "      <td>0.093248</td>\n",
       "      <td>0.000000</td>\n",
       "    </tr>\n",
       "    <tr>\n",
       "      <th>50%</th>\n",
       "      <td>11.000000</td>\n",
       "      <td>2020-07-06 20:30:00</td>\n",
       "      <td>0.012000</td>\n",
       "      <td>0.594000</td>\n",
       "      <td>0.371963</td>\n",
       "      <td>0.000000</td>\n",
       "    </tr>\n",
       "    <tr>\n",
       "      <th>75%</th>\n",
       "      <td>18.000000</td>\n",
       "      <td>2020-10-08 23:45:00</td>\n",
       "      <td>0.561000</td>\n",
       "      <td>1.332000</td>\n",
       "      <td>1.193020</td>\n",
       "      <td>0.000000</td>\n",
       "    </tr>\n",
       "    <tr>\n",
       "      <th>max</th>\n",
       "      <td>23.000000</td>\n",
       "      <td>2020-12-31 23:00:00</td>\n",
       "      <td>3.180000</td>\n",
       "      <td>4.098600</td>\n",
       "      <td>4.092000</td>\n",
       "      <td>3.009000</td>\n",
       "    </tr>\n",
       "    <tr>\n",
       "      <th>std</th>\n",
       "      <td>7.438269</td>\n",
       "      <td>NaN</td>\n",
       "      <td>0.744858</td>\n",
       "      <td>0.883042</td>\n",
       "      <td>0.915180</td>\n",
       "      <td>0.578807</td>\n",
       "    </tr>\n",
       "  </tbody>\n",
       "</table>\n",
       "</div>"
      ],
      "text/plain": [
       "              Hour                Date/hour start  \\\n",
       "count  6782.000000                           6782   \n",
       "mean     11.048363  2020-07-03 16:40:42.819227392   \n",
       "min       0.000000            2020-01-01 00:00:00   \n",
       "25%       4.000000            2020-03-27 23:15:00   \n",
       "50%      11.000000            2020-07-06 20:30:00   \n",
       "75%      18.000000            2020-10-08 23:45:00   \n",
       "max      23.000000            2020-12-31 23:00:00   \n",
       "std       7.438269                            NaN   \n",
       "\n",
       "       Solar electricity generation (kWh)  Electricity usage (kWh)  \\\n",
       "count                         6782.000000              6782.000000   \n",
       "mean                             0.429767                 0.957418   \n",
       "min                              0.000000                -0.217500   \n",
       "25%                              0.000000                 0.306000   \n",
       "50%                              0.012000                 0.594000   \n",
       "75%                              0.561000                 1.332000   \n",
       "max                              3.180000                 4.098600   \n",
       "std                              0.744858                 0.883042   \n",
       "\n",
       "       elec_bought  excess_solar_generated  \n",
       "count  6782.000000             6782.000000  \n",
       "mean      0.769530                0.241878  \n",
       "min       0.000000                0.000000  \n",
       "25%       0.093248                0.000000  \n",
       "50%       0.371963                0.000000  \n",
       "75%       1.193020                0.000000  \n",
       "max       4.092000                3.009000  \n",
       "std       0.915180                0.578807  "
      ]
     },
     "execution_count": 87,
     "metadata": {},
     "output_type": "execute_result"
    }
   ],
   "source": [
    "df.describe()"
   ]
  },
  {
   "cell_type": "code",
   "execution_count": 93,
   "metadata": {},
   "outputs": [
    {
     "name": "stderr",
     "output_type": "stream",
     "text": [
      "C:\\Users\\Administrator\\AppData\\Local\\Temp\\ipykernel_15660\\106055962.py:2: FutureWarning: The default of observed=False is deprecated and will be changed to True in a future version of pandas. Pass observed=False to retain current behavior or observed=True to adopt the future default and silence this warning.\n",
      "  monthly_excess_solar_generation=df.groupby('month_extract')['excess_solar_generated'].mean()\n"
     ]
    },
    {
     "data": {
      "text/plain": [
       "month_extract\n",
       "January      0.067795\n",
       "February     0.160189\n",
       "March        0.208987\n",
       "April        0.266043\n",
       "May          0.354192\n",
       "June         0.439242\n",
       "July         0.400423\n",
       "August       0.360976\n",
       "September    0.278052\n",
       "October      0.242592\n",
       "November     0.162461\n",
       "December     0.055189\n",
       "Name: excess_solar_generated, dtype: float64"
      ]
     },
     "execution_count": 93,
     "metadata": {},
     "output_type": "execute_result"
    }
   ],
   "source": [
    "#average excess solar generation on a monthly basis\n",
    "monthly_excess_solar_generation=df.groupby('month_extract')['excess_solar_generated'].mean()\n",
    "monthly_excess_solar_generation"
   ]
  },
  {
   "cell_type": "code",
   "execution_count": 96,
   "metadata": {},
   "outputs": [],
   "source": [
    "df=df.reset_index(drop=True)"
   ]
  },
  {
   "cell_type": "code",
   "execution_count": null,
   "metadata": {},
   "outputs": [],
   "source": [
    "#Modelling the Battery Charge Level\n",
    "battery_charge=[0]\n",
    "for i in range(1,len(df)):\n",
    "    value=battery_charge[-1]+df.loc[i,'excess_solar_generated']-df.loc[i,'Electricity usage (kWh)']\n",
    "    value=max(0,min(value,12.5))\n",
    "    battery_charge.append(value)\n",
    "print(battery_charge,end=' ')"
   ]
  }
 ],
 "metadata": {
  "kernelspec": {
   "display_name": "Python 3",
   "language": "python",
   "name": "python3"
  },
  "language_info": {
   "codemirror_mode": {
    "name": "ipython",
    "version": 3
   },
   "file_extension": ".py",
   "mimetype": "text/x-python",
   "name": "python",
   "nbconvert_exporter": "python",
   "pygments_lexer": "ipython3",
   "version": "3.13.2"
  }
 },
 "nbformat": 4,
 "nbformat_minor": 2
}
